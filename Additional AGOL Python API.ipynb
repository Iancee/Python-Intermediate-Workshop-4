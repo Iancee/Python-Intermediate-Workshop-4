{
 "cells": [
  {
   "cell_type": "markdown",
   "metadata": {},
   "source": [
    "# AGOL Python API"
   ]
  },
  {
   "cell_type": "code",
   "execution_count": null,
   "metadata": {},
   "outputs": [],
   "source": [
    "import getpass\n",
    "from arcgis import gis, features\n",
    "\n",
    "username = 'Ian_Conroy_LearnArcGIS'\n",
    "\n",
    "password = getpass.getpass()\n",
    "\n",
    "#Connect to AGOL org, this line creates a gis object that allows us to access our AGOL account and any data we have access to\n",
    "print('Connecting to AGOL Org')\n",
    "gis = gis.GIS('https://learngis2.maps.arcgis.com', username, password)\n"
   ]
  },
  {
   "cell_type": "code",
   "execution_count": null,
   "metadata": {},
   "outputs": [],
   "source": [
    "pizza_csv = r\"C:\\Users\\ian.conroy\\Desktop\\Bay Geo Classes\\Python Class\\Intermediate Class\\Session 2\\Pizza Restaurants.csv\"\n"
   ]
  },
  {
   "cell_type": "code",
   "execution_count": null,
   "metadata": {},
   "outputs": [],
   "source": [
    "item_prop = {'title':'Pizza Restaurants SF All'}\n",
    "csv_item = gis.content.add(item_properties=item_prop, data=pizza_csv)\n",
    "csv_item"
   ]
  },
  {
   "cell_type": "code",
   "execution_count": null,
   "metadata": {},
   "outputs": [],
   "source": [
    "pizza_rest_item = csv_item.publish()\n",
    "pizza_rest_item"
   ]
  },
  {
   "cell_type": "code",
   "execution_count": null,
   "metadata": {},
   "outputs": [],
   "source": []
  },
  {
   "cell_type": "code",
   "execution_count": null,
   "metadata": {},
   "outputs": [],
   "source": []
  }
 ],
 "metadata": {
  "kernelspec": {
   "display_name": "Python 3",
   "language": "python",
   "name": "python3"
  },
  "language_info": {
   "codemirror_mode": {
    "name": "ipython",
    "version": 3
   },
   "file_extension": ".py",
   "mimetype": "text/x-python",
   "name": "python",
   "nbconvert_exporter": "python",
   "pygments_lexer": "ipython3",
   "version": "3.6.9"
  }
 },
 "nbformat": 4,
 "nbformat_minor": 2
}
